{
  "nbformat": 4,
  "nbformat_minor": 0,
  "metadata": {
    "colab": {
      "provenance": []
    },
    "kernelspec": {
      "name": "python3",
      "display_name": "Python 3"
    },
    "language_info": {
      "name": "python"
    }
  },
  "cells": [
    {
      "cell_type": "code",
      "execution_count": 13,
      "metadata": {
        "id": "FGt6D4AdPjG2"
      },
      "outputs": [],
      "source": [
        "import tensorflow as tf\n",
        "from tensorflow.keras.datasets import mnist\n",
        "from tensorflow import keras\n",
        "from tensorflow.keras import layers\n",
        "import numpy as np\n",
        "import matplotlib.pyplot as plt"
      ]
    },
    {
      "cell_type": "code",
      "source": [
        "(x_train, y_train), (x_test, y_test) = mnist.load_data()\n",
        "x_train.shape, x_test.shape, y_train.shape, y_test.shape"
      ],
      "metadata": {
        "colab": {
          "base_uri": "https://localhost:8080/"
        },
        "id": "ZPEqae5FSTHD",
        "outputId": "37296b6d-8272-4703-d53c-3b5948d2e6ad"
      },
      "execution_count": 11,
      "outputs": [
        {
          "output_type": "execute_result",
          "data": {
            "text/plain": [
              "((60000, 28, 28), (10000, 28, 28), (60000,), (10000,))"
            ]
          },
          "metadata": {},
          "execution_count": 11
        }
      ]
    },
    {
      "cell_type": "code",
      "source": [
        "x_train = x_train[..., tf.newaxis]\n",
        "x_test = x_test[..., tf.newaxis]\n",
        "x_train.shape, x_test.shape"
      ],
      "metadata": {
        "colab": {
          "base_uri": "https://localhost:8080/"
        },
        "id": "rntS-quJWaAh",
        "outputId": "13262f30-b9f6-4bfa-9e49-2f5f358028e1"
      },
      "execution_count": 14,
      "outputs": [
        {
          "output_type": "execute_result",
          "data": {
            "text/plain": [
              "((60000, 28, 28, 1), (10000, 28, 28, 1))"
            ]
          },
          "metadata": {},
          "execution_count": 14
        }
      ]
    },
    {
      "cell_type": "code",
      "source": [
        "x_train = tf.image.resize_with_pad(x_train, 32, 32)\n",
        "x_test = tf.image.resize_with_pad(x_test, 32, 32)\n",
        "x_train.shape, x_test.shape"
      ],
      "metadata": {
        "colab": {
          "base_uri": "https://localhost:8080/"
        },
        "id": "8ZUacU6HWjf0",
        "outputId": "965f7ce9-ae4e-4a24-d15b-0fc7ada36e7e"
      },
      "execution_count": 15,
      "outputs": [
        {
          "output_type": "execute_result",
          "data": {
            "text/plain": [
              "(TensorShape([60000, 32, 32, 1]), TensorShape([10000, 32, 32, 1]))"
            ]
          },
          "metadata": {},
          "execution_count": 15
        }
      ]
    },
    {
      "cell_type": "code",
      "source": [
        "x_train = tf.cast(x_train, tf.float32) / 255.0\n",
        "x_test = tf.cast(x_test, tf.float32) / 255.0\n",
        "\n",
        "x_train.shape, x_test.shape"
      ],
      "metadata": {
        "colab": {
          "base_uri": "https://localhost:8080/"
        },
        "id": "Cmix6da-S3OE",
        "outputId": "d09679b8-e79f-486e-ca87-9225282bebfc"
      },
      "execution_count": 18,
      "outputs": [
        {
          "output_type": "execute_result",
          "data": {
            "text/plain": [
              "(TensorShape([60000, 32, 32, 1]), TensorShape([10000, 32, 32, 1]))"
            ]
          },
          "metadata": {},
          "execution_count": 18
        }
      ]
    },
    {
      "cell_type": "code",
      "source": [
        "y_train = keras.utils.to_categorical(y_train, len(np.unique(y_train)))\n",
        "y_test = keras.utils.to_categorical(y_test, len(np.unique(y_test)))\n",
        "\n",
        "y_train.shape, y_test.shape"
      ],
      "metadata": {
        "colab": {
          "base_uri": "https://localhost:8080/"
        },
        "id": "qA5sFpCwTdkM",
        "outputId": "02bb0b40-443e-4733-f117-15f702cc2ada"
      },
      "execution_count": 58,
      "outputs": [
        {
          "output_type": "execute_result",
          "data": {
            "text/plain": [
              "((60000, 10), (10000, 10))"
            ]
          },
          "metadata": {},
          "execution_count": 58
        }
      ]
    },
    {
      "cell_type": "code",
      "source": [
        "lenet5 = keras.models.Sequential([\n",
        "    layers.Input(shape = (32, 32, 1)),\n",
        "    layers.Conv2D(6, (5, 5), activation = \"tanh\"),\n",
        "    layers.MaxPooling2D(pool_size=(2, 2), strides=(2, 2)),\n",
        "    layers.Conv2D(16, (5, 5), activation = \"tanh\"),\n",
        "    layers.MaxPooling2D(pool_size=(2, 2), strides=(2, 2)),\n",
        "    layers.Conv2D(120, (5, 5), activation = \"tanh\"),\n",
        "    layers.Flatten(),\n",
        "    layers.Dense(84, activation = \"tanh\"),\n",
        "    layers.Dense(10, activation = \"softmax\")\n",
        "])\n",
        "lenet5.summary()"
      ],
      "metadata": {
        "colab": {
          "base_uri": "https://localhost:8080/"
        },
        "id": "xXV87GgbUDQA",
        "outputId": "c0c2f338-7ff5-4955-fcfc-aff22eb678cf"
      },
      "execution_count": 49,
      "outputs": [
        {
          "output_type": "stream",
          "name": "stdout",
          "text": [
            "Model: \"sequential_17\"\n",
            "_________________________________________________________________\n",
            " Layer (type)                Output Shape              Param #   \n",
            "=================================================================\n",
            " conv2d_76 (Conv2D)          (None, 28, 28, 6)         156       \n",
            "                                                                 \n",
            " max_pooling2d_15 (MaxPooli  (None, 14, 14, 6)         0         \n",
            " ng2D)                                                           \n",
            "                                                                 \n",
            " conv2d_77 (Conv2D)          (None, 10, 10, 16)        2416      \n",
            "                                                                 \n",
            " max_pooling2d_16 (MaxPooli  (None, 5, 5, 16)          0         \n",
            " ng2D)                                                           \n",
            "                                                                 \n",
            " conv2d_78 (Conv2D)          (None, 1, 1, 120)         48120     \n",
            "                                                                 \n",
            " flatten_19 (Flatten)        (None, 120)               0         \n",
            "                                                                 \n",
            " dense_41 (Dense)            (None, 84)                10164     \n",
            "                                                                 \n",
            " dense_42 (Dense)            (None, 10)                850       \n",
            "                                                                 \n",
            "=================================================================\n",
            "Total params: 61706 (241.04 KB)\n",
            "Trainable params: 61706 (241.04 KB)\n",
            "Non-trainable params: 0 (0.00 Byte)\n",
            "_________________________________________________________________\n"
          ]
        }
      ]
    },
    {
      "cell_type": "markdown",
      "source": [
        "My implementation is slightly different from the the original paper. In the original LeNet-5 they have used some kind of non-complete connection scheme after first downsampling. Also, they have used RBF in the final layer, and with RBF they have used a different kind of MAP criterain based loss (maximum a posteriori). However the number of parameters described in the papers are same at 60K."
      ],
      "metadata": {
        "id": "JpjyhMP8tosI"
      }
    },
    {
      "cell_type": "code",
      "source": [
        "early_stopping = keras.callbacks.EarlyStopping(monitor = \"val_loss\", restore_best_weights = True, patience = 5, verbose = 1)\n",
        "lenet5.compile(optimizer='adam',\n",
        "                loss='categorical_crossentropy',\n",
        "                metrics=['accuracy'])\n",
        "\n",
        "history = lenet5.fit(x_train, y_train, epochs = 20, batch_size = 32, validation_data=(x_test, y_test), callbacks = [early_stopping])\n",
        "\n",
        "# Evaluate the model on test data\n",
        "test_loss, test_acc = lenet5.evaluate(x_test, y_test)\n",
        "\n",
        "print(f'Test accuracy: {test_acc}')"
      ],
      "metadata": {
        "colab": {
          "base_uri": "https://localhost:8080/"
        },
        "id": "30h9ENc-tPhL",
        "outputId": "fc5c3b44-7461-4bf3-9bb9-3cdd10d959a1"
      },
      "execution_count": 60,
      "outputs": [
        {
          "output_type": "stream",
          "name": "stdout",
          "text": [
            "Epoch 1/20\n",
            "1875/1875 [==============================] - 41s 21ms/step - loss: 0.0072 - accuracy: 0.9976 - val_loss: 0.0510 - val_accuracy: 0.9858\n",
            "Epoch 2/20\n",
            "1875/1875 [==============================] - 39s 21ms/step - loss: 0.0060 - accuracy: 0.9981 - val_loss: 0.0487 - val_accuracy: 0.9879\n",
            "Epoch 3/20\n",
            "1875/1875 [==============================] - 39s 21ms/step - loss: 0.0056 - accuracy: 0.9979 - val_loss: 0.0469 - val_accuracy: 0.9887\n",
            "Epoch 4/20\n",
            "1875/1875 [==============================] - 38s 20ms/step - loss: 0.0061 - accuracy: 0.9979 - val_loss: 0.0623 - val_accuracy: 0.9850\n",
            "Epoch 5/20\n",
            "1875/1875 [==============================] - 38s 20ms/step - loss: 0.0045 - accuracy: 0.9983 - val_loss: 0.0497 - val_accuracy: 0.9885\n",
            "Epoch 6/20\n",
            "1875/1875 [==============================] - 39s 21ms/step - loss: 0.0040 - accuracy: 0.9988 - val_loss: 0.0700 - val_accuracy: 0.9846\n",
            "Epoch 7/20\n",
            "1875/1875 [==============================] - 39s 21ms/step - loss: 0.0077 - accuracy: 0.9974 - val_loss: 0.0538 - val_accuracy: 0.9872\n",
            "Epoch 8/20\n",
            "1872/1875 [============================>.] - ETA: 0s - loss: 0.0063 - accuracy: 0.9978Restoring model weights from the end of the best epoch: 3.\n",
            "1875/1875 [==============================] - 38s 20ms/step - loss: 0.0063 - accuracy: 0.9978 - val_loss: 0.0473 - val_accuracy: 0.9886\n",
            "Epoch 8: early stopping\n",
            "313/313 [==============================] - 2s 7ms/step - loss: 0.0469 - accuracy: 0.9887\n",
            "Test accuracy: 0.9886999726295471\n"
          ]
        }
      ]
    }
  ]
}